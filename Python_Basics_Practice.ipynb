{
 "cells": [
  {
   "cell_type": "code",
   "execution_count": 3,
   "metadata": {},
   "outputs": [
    {
     "name": "stdout",
     "output_type": "stream",
     "text": [
      "Hello, World!\n",
      "I'm Shruti\n"
     ]
    }
   ],
   "source": [
    "#printing a string with print ()\n",
    "\n",
    "print(\"Hello, World!\")\n",
    "print(\"I'm Shruti\")"
   ]
  },
  {
   "cell_type": "code",
   "execution_count": 4,
   "metadata": {},
   "outputs": [
    {
     "name": "stdout",
     "output_type": "stream",
     "text": [
      "1\n",
      "Hello\n",
      "False\n"
     ]
    }
   ],
   "source": [
    "#Creating Variables \n",
    "\n",
    "a = 1           # Integer Datatype\n",
    "b = 'Hello'     # String Datatype\n",
    "c = False       # Boolean Datatype\n",
    "\n",
    "print(a)\n",
    "print(b)\n",
    "print(c)\n"
   ]
  },
  {
   "cell_type": "code",
   "execution_count": 1,
   "metadata": {},
   "outputs": [
    {
     "name": "stdout",
     "output_type": "stream",
     "text": [
      "2\n",
      "Bye\n",
      "True\n"
     ]
    }
   ],
   "source": [
    "# Reassignment of Variables\n",
    "\n",
    "a = 2        # Integer Datatype\n",
    "b = 'Bye'     # String Datatype\n",
    "c = True       # Boolean Datatype\n",
    "\n",
    "print(a)\n",
    "print(b)\n",
    "print(c)\n",
    "\n"
   ]
  },
  {
   "cell_type": "code",
   "execution_count": 2,
   "metadata": {},
   "outputs": [
    {
     "name": "stdout",
     "output_type": "stream",
     "text": [
      "Hello. This is Shruti.\n",
      "Bye.\n"
     ]
    }
   ],
   "source": [
    "# Output Variables\n",
    "\n",
    "x = 'Hello'\n",
    "y = ' This is Shruti'\n",
    "\n",
    "print( x + \".\" + y + \".\")\n",
    "print(b + \".\")\n"
   ]
  },
  {
   "cell_type": "code",
   "execution_count": 3,
   "metadata": {},
   "outputs": [],
   "source": [
    "# Numeric Variables\n",
    "\n",
    "a1 = 23\n",
    "b1 = 25.44\n",
    "c1 = 2 + 5j\n",
    "d1 = 47e2"
   ]
  },
  {
   "cell_type": "markdown",
   "metadata": {},
   "source": [
    "Let **x** be a variable, **_type(x)_** will output the class of the variable **x**\n",
    "\n",
    "To verify the type of any object in Python, use the **_type()_** function:"
   ]
  },
  {
   "cell_type": "code",
   "execution_count": 15,
   "metadata": {},
   "outputs": [
    {
     "name": "stdout",
     "output_type": "stream",
     "text": [
      "<class 'int'>\n",
      "<class 'float'>\n",
      "<class 'complex'>\n",
      "<class 'float'>\n"
     ]
    }
   ],
   "source": [
    "type_a1 = type(a1)\n",
    "type_b1 = type(b1)\n",
    "type_c1 = type(c1)\n",
    "type_d1 = type(d1)\n",
    "\n",
    "print (type_a1)\n",
    "print (type_b1)\n",
    "print (type_c1)\n",
    "print (type_d1)"
   ]
  },
  {
   "cell_type": "code",
   "execution_count": 16,
   "metadata": {},
   "outputs": [],
   "source": [
    "#Get the name of the class by dot referencing\n",
    "class_name_a1 = type_a1.__name__\n"
   ]
  },
  {
   "cell_type": "code",
   "execution_count": 17,
   "metadata": {},
   "outputs": [
    {
     "name": "stdout",
     "output_type": "stream",
     "text": [
      "a is an object of class :int\n"
     ]
    }
   ],
   "source": [
    "\n",
    "print(\"a is an object of class :\" + class_name_a1)"
   ]
  },
  {
   "cell_type": "code",
   "execution_count": 18,
   "metadata": {},
   "outputs": [],
   "source": [
    "#Casting in Python is done using constructor functions.\n",
    "\n",
    "x = int(1)     # x will be 1\n",
    "y = int(2.225)   # y will be 2\n",
    "z = int(\"3\")    # z will be 3"
   ]
  },
  {
   "cell_type": "code",
   "execution_count": 19,
   "metadata": {},
   "outputs": [],
   "source": [
    "x = float(1)    # x will be 1\n",
    "y = float(2.225) # y will be 2.225\n",
    "z = float(\"3\")   # z will be 3.0\n",
    "w = float(\"4.0\")  # w will be 4.0"
   ]
  },
  {
   "cell_type": "code",
   "execution_count": 20,
   "metadata": {},
   "outputs": [],
   "source": [
    "x = str(\"s1\")  # x will be 's1'\n",
    "y = str(2)     # y will be '2'\n",
    "z = str(3.0)   # z will be '3.0'"
   ]
  },
  {
   "cell_type": "code",
   "execution_count": 26,
   "metadata": {},
   "outputs": [],
   "source": [
    "#Practicing String Literals\n",
    "\n",
    "name = \"This is Shruti.\""
   ]
  },
  {
   "cell_type": "code",
   "execution_count": 27,
   "metadata": {},
   "outputs": [
    {
     "name": "stdout",
     "output_type": "stream",
     "text": [
      "h\n"
     ]
    }
   ],
   "source": [
    "#Get the character at position 1\n",
    "\n",
    "print(name[1])"
   ]
  },
  {
   "cell_type": "code",
   "execution_count": 28,
   "metadata": {},
   "outputs": [
    {
     "name": "stdout",
     "output_type": "stream",
     "text": [
      "his is \n"
     ]
    }
   ],
   "source": [
    "#Get character from posiition 1 to position 8\n",
    "\n",
    "print(name[1:8])"
   ]
  },
  {
   "cell_type": "code",
   "execution_count": 29,
   "metadata": {},
   "outputs": [
    {
     "name": "stdout",
     "output_type": "stream",
     "text": [
      "This is Shruti.\n"
     ]
    }
   ],
   "source": [
    "#The strip() method removes any whitespace from beginning or the end\n",
    "\n",
    "print(name.strip())"
   ]
  },
  {
   "cell_type": "code",
   "execution_count": 31,
   "metadata": {},
   "outputs": [
    {
     "name": "stdout",
     "output_type": "stream",
     "text": [
      "15\n"
     ]
    }
   ],
   "source": [
    "#The len() method returns gives the length of the string\n",
    "\n",
    "print(len(name))"
   ]
  },
  {
   "cell_type": "code",
   "execution_count": 32,
   "metadata": {},
   "outputs": [
    {
     "name": "stdout",
     "output_type": "stream",
     "text": [
      "this is shruti.\n"
     ]
    }
   ],
   "source": [
    "#The lower() returns the string in the lowercase\n",
    "\n",
    "print(name.lower())"
   ]
  },
  {
   "cell_type": "code",
   "execution_count": 42,
   "metadata": {},
   "outputs": [
    {
     "name": "stdout",
     "output_type": "stream",
     "text": [
      "THIS IS SHRUTI.\n"
     ]
    }
   ],
   "source": [
    "# The upper() returns the string in the uppercase\n",
    "\n",
    "print(name.upper())"
   ]
  },
  {
   "cell_type": "code",
   "execution_count": 44,
   "metadata": {},
   "outputs": [
    {
     "name": "stdout",
     "output_type": "stream",
     "text": [
      "Jhis is Shruti.\n"
     ]
    }
   ],
   "source": [
    "# The replace() method replaces a string with another string\n",
    "\n",
    "print(name.replace(\"T\", \"J\"))"
   ]
  },
  {
   "cell_type": "code",
   "execution_count": 46,
   "metadata": {},
   "outputs": [
    {
     "name": "stdout",
     "output_type": "stream",
     "text": [
      "['This is Shruti.']\n"
     ]
    }
   ],
   "source": [
    "# The split() method splits the string into substrings\n",
    "\n",
    "print(name.split(\",\"))\n",
    "\n",
    "# In this case there are no separators."
   ]
  },
  {
   "cell_type": "code",
   "execution_count": 47,
   "metadata": {},
   "outputs": [
    {
     "name": "stdout",
     "output_type": "stream",
     "text": [
      "['Blue', 'Yellow', 'Green']\n"
     ]
    }
   ],
   "source": [
    "# Python Lists\n",
    "\n",
    "colors = [\"Blue\", \"Yellow\", \"Green\"]\n",
    "\n",
    "print(colors)"
   ]
  },
  {
   "cell_type": "code",
   "execution_count": 49,
   "metadata": {},
   "outputs": [
    {
     "name": "stdout",
     "output_type": "stream",
     "text": [
      "Yellow\n"
     ]
    }
   ],
   "source": [
    "# Access each list element by indexing it\n",
    "\n",
    "print(colors[1])"
   ]
  },
  {
   "cell_type": "code",
   "execution_count": 51,
   "metadata": {},
   "outputs": [
    {
     "name": "stdout",
     "output_type": "stream",
     "text": [
      "['Blue', 'Red', 'Green']\n"
     ]
    }
   ],
   "source": [
    "# Use index number to change value of a particular item\n",
    "\n",
    "colors[1] = \"Red\"\n",
    "\n",
    "print(colors)"
   ]
  },
  {
   "cell_type": "code",
   "execution_count": 52,
   "metadata": {},
   "outputs": [
    {
     "name": "stdout",
     "output_type": "stream",
     "text": [
      "('Embedded', 'VLSI', 'Arduino')\n"
     ]
    }
   ],
   "source": [
    "# Python Tuples\n",
    "\n",
    "subject_tuple = (\"Embedded\", \"VLSI\", \"Arduino\")\n",
    "\n",
    "print(subject_tuple)"
   ]
  },
  {
   "cell_type": "code",
   "execution_count": 56,
   "metadata": {},
   "outputs": [],
   "source": [
    "# Tuple doesn't allow object assignment. The next line will produce an error.\n",
    "\n",
    "#subject_tuple[1] = 'cp'"
   ]
  },
  {
   "cell_type": "code",
   "execution_count": 62,
   "metadata": {},
   "outputs": [],
   "source": [
    "# Python Dictionary\n",
    "\n",
    "Train = {\n",
    "   \"name\" : \"Shatabdi Express\",\n",
    "    \"isRunning\": True\n",
    "}"
   ]
  },
  {
   "cell_type": "code",
   "execution_count": 64,
   "metadata": {},
   "outputs": [
    {
     "data": {
      "text/plain": [
       "' The train Shatabdi Express is running at right time'"
      ]
     },
     "execution_count": 64,
     "metadata": {},
     "output_type": "execute_result"
    }
   ],
   "source": [
    "# Acess items of Dictionary by its keyname, using Square Brackets.\n",
    "\" The train {} is running at right time\". format(Train[\"name\"])"
   ]
  },
  {
   "cell_type": "code",
   "execution_count": 66,
   "metadata": {},
   "outputs": [
    {
     "name": "stdout",
     "output_type": "stream",
     "text": [
      "False\n"
     ]
    }
   ],
   "source": [
    "#Python conditions and if statements\n",
    "\n",
    "x1 = 4\n",
    "x2 = 5\n",
    "\n",
    "if x1 == x2 :\n",
    "   print(True)\n",
    "else:\n",
    "    print(False)\n",
    "    "
   ]
  },
  {
   "cell_type": "code",
   "execution_count": 69,
   "metadata": {},
   "outputs": [
    {
     "name": "stdout",
     "output_type": "stream",
     "text": [
      "0\n",
      "1\n",
      "2\n",
      "3\n",
      "4\n",
      "5\n",
      "6\n",
      "7\n",
      "8\n",
      "9\n"
     ]
    }
   ],
   "source": [
    "# Python Loops\n",
    "\n",
    "for i in range(10):\n",
    "    print(i)"
   ]
  },
  {
   "cell_type": "code",
   "execution_count": 71,
   "metadata": {},
   "outputs": [
    {
     "name": "stdout",
     "output_type": "stream",
     "text": [
      "0\n",
      "1\n",
      "2\n",
      "3\n",
      "4\n"
     ]
    }
   ],
   "source": [
    "a = 0\n",
    "\n",
    "while a <5:\n",
    "    print(a)\n",
    "    a+=1"
   ]
  },
  {
   "cell_type": "code",
   "execution_count": 73,
   "metadata": {},
   "outputs": [
    {
     "name": "stdout",
     "output_type": "stream",
     "text": [
      "one\n",
      "two\n",
      "three\n"
     ]
    }
   ],
   "source": [
    "# Printing Elements of List\n",
    "\n",
    "mySeq = ['one' , 'two' , 'three']\n",
    "\n",
    "for ele in mySeq:\n",
    "    print(ele"
   ]
  },
  {
   "cell_type": "code",
   "execution_count": 74,
   "metadata": {},
   "outputs": [
    {
     "name": "stdout",
     "output_type": "stream",
     "text": [
      "name\n",
      "isRunning\n"
     ]
    }
   ],
   "source": [
    "# Printing Keys of Dictionary\n",
    "\n",
    "for ele in Train:\n",
    "     print(ele)"
   ]
  },
  {
   "cell_type": "code",
   "execution_count": 75,
   "metadata": {},
   "outputs": [
    {
     "name": "stdout",
     "output_type": "stream",
     "text": [
      "Shatabdi Express\n",
      "True\n"
     ]
    }
   ],
   "source": [
    "# Printing Corresponding Value of elements of Dictionary\n",
    "\n",
    "for ele in Train:\n",
    "    print(Train[ele])"
   ]
  },
  {
   "cell_type": "code",
   "execution_count": 76,
   "metadata": {},
   "outputs": [],
   "source": [
    "# Python Functions\n",
    "\n",
    "def show():\n",
    "    print('This is Shruti')"
   ]
  },
  {
   "cell_type": "code",
   "execution_count": 77,
   "metadata": {},
   "outputs": [
    {
     "name": "stdout",
     "output_type": "stream",
     "text": [
      "This is Shruti\n"
     ]
    }
   ],
   "source": [
    "# Calling Function show()\n",
    "\n",
    "show()"
   ]
  },
  {
   "cell_type": "code",
   "execution_count": 101,
   "metadata": {},
   "outputs": [],
   "source": [
    "# Python Classes\n",
    "\n",
    "class Book:\n",
    "    weight = 2\n",
    "    height = 4\n",
    "    length = 3"
   ]
  },
  {
   "cell_type": "code",
   "execution_count": 104,
   "metadata": {},
   "outputs": [],
   "source": [
    "# init() in Python\n",
    "\n",
    "class Book:\n",
    "    \n",
    "    def __init__(self , w, h, l):\n",
    "        self.w = w\n",
    "        self.h = h\n",
    "        self.l = l\n",
    "        \n",
    "    def getprice(self):\n",
    "        return self.w * self.h * self.l\n",
    "    "
   ]
  },
  {
   "cell_type": "code",
   "execution_count": 105,
   "metadata": {},
   "outputs": [
    {
     "name": "stdout",
     "output_type": "stream",
     "text": [
      "20\n"
     ]
    }
   ],
   "source": [
    "boook = Book(1, 4, 5)\n",
    "\n",
    "price = boook.getprice()\n",
    "\n",
    "print (price)"
   ]
  },
  {
   "cell_type": "code",
   "execution_count": 109,
   "metadata": {},
   "outputs": [],
   "source": [
    "class Book:\n",
    "    \n",
    "    def __init__(local, h, w, l):\n",
    "        local.h = h\n",
    "        local.w = w\n",
    "        local.l = l\n",
    "        \n",
    "    def getprice(local):\n",
    "        return local.w * local.h * local.l"
   ]
  },
  {
   "cell_type": "code",
   "execution_count": 110,
   "metadata": {},
   "outputs": [
    {
     "name": "stdout",
     "output_type": "stream",
     "text": [
      "60\n"
     ]
    }
   ],
   "source": [
    "boook1 = Book(3, 4, 5)\n",
    "\n",
    "print(boook1.getprice())"
   ]
  },
  {
   "cell_type": "code",
   "execution_count": 114,
   "metadata": {},
   "outputs": [
    {
     "name": "stdout",
     "output_type": "stream",
     "text": [
      "200\n"
     ]
    }
   ],
   "source": [
    "# Modifying Objects\n",
    "\n",
    "boook1.h = 10;\n",
    "\n",
    "print(boook1.getprice())"
   ]
  },
  {
   "cell_type": "code",
   "execution_count": 118,
   "metadata": {},
   "outputs": [
    {
     "name": "stdout",
     "output_type": "stream",
     "text": [
      "None None None\n"
     ]
    }
   ],
   "source": [
    "# Inheritance in Python\n",
    "\n",
    "class BaseClassMine:\n",
    "    \n",
    "    def __init__(self):\n",
    "        self.prop1 = None\n",
    "        self.prop2 = None\n",
    "        self.prop3 = None\n",
    "\n",
    "class DerivedClassMine(BaseClassMine):\n",
    "    pass\n",
    "\n",
    "obj = DerivedClassMine()\n",
    "\n",
    "print (obj.prop1, obj.prop2, obj.prop3)"
   ]
  },
  {
   "cell_type": "code",
   "execution_count": 119,
   "metadata": {},
   "outputs": [
    {
     "name": "stdout",
     "output_type": "stream",
     "text": [
      "None\n"
     ]
    }
   ],
   "source": [
    "class AnotherClassMine(BaseClassMine):\n",
    "    \n",
    "    def __init__(self):\n",
    "        self.prop4 = None\n",
    "\n",
    "obj = AnotherClassMine()\n",
    "\n",
    "print (obj.prop4)"
   ]
  },
  {
   "cell_type": "code",
   "execution_count": 120,
   "metadata": {},
   "outputs": [
    {
     "name": "stdout",
     "output_type": "stream",
     "text": [
      "None None None None\n"
     ]
    }
   ],
   "source": [
    "class AnotherOneMine(BaseClassMine):\n",
    "    \n",
    "    def __init__(self):\n",
    "        BaseClassMine.__init__(self)\n",
    "        self.prop5 = None\n",
    "\n",
    "obj = AnotherOneMine()\n",
    "\n",
    "print (obj.prop1, obj.prop2, obj.prop3, obj.prop5)"
   ]
  },
  {
   "cell_type": "code",
   "execution_count": 121,
   "metadata": {},
   "outputs": [],
   "source": [
    "#Importing Modules\n",
    "\n",
    "import numpy\n",
    "import pandas"
   ]
  },
  {
   "cell_type": "code",
   "execution_count": null,
   "metadata": {},
   "outputs": [],
   "source": []
  }
 ],
 "metadata": {
  "kernelspec": {
   "display_name": "Python 3",
   "language": "python",
   "name": "python3"
  },
  "language_info": {
   "codemirror_mode": {
    "name": "ipython",
    "version": 3
   },
   "file_extension": ".py",
   "mimetype": "text/x-python",
   "name": "python",
   "nbconvert_exporter": "python",
   "pygments_lexer": "ipython3",
   "version": "3.7.0"
  }
 },
 "nbformat": 4,
 "nbformat_minor": 2
}
